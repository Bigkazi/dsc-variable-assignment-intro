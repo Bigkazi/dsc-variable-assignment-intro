{
 "cells": [
  {
   "cell_type": "markdown",
   "metadata": {},
   "source": [
    "# Yelp API Project\n",
    "\n",
    "\n",
    "## Introduction \n",
    "\n",
    "We've learned how to query the Yelp API, analyze JSON data and create basic visualizations. It's time to put those skills to work in order to create a project of your own! Taking things a step further, you'll also independently explore how to perform pagination in order to retrieve a full results set from the Yelp API.\n",
    "\n",
    "## Objectives\n",
    "\n",
    "You will be able to: \n",
    "\n",
    "* Practice using functions to organize your code\n",
    "* Use pagination to retrieve all results from an API query\n",
    "* Practice parsing data returned from an API query\n",
    "* Practice interpreting visualizations of a dataset"
   ]
  },
  {
   "cell_type": "markdown",
   "metadata": {},
   "source": [
    "# Task: Query Yelp for All Businesses in a Category and Analyze the Results\n",
    "\n",
    "![restaurant counter with pizza](images/restaurant_counter.jpg)\n",
    "\n",
    "Photo by <a href=\"https://unsplash.com/@jordanmadrid?utm_source=unsplash&utm_medium=referral&utm_content=creditCopyText\">Jordan Madrid</a> on <a href=\"/s/photos/pizza-restaurant?utm_source=unsplash&utm_medium=referral&utm_content=creditCopyText\">Unsplash</a>"
   ]
  },
  {
   "cell_type": "markdown",
   "metadata": {},
   "source": [
    "## Overview\n",
    "\n",
    "You've now worked with some API calls, but we have yet to see how to retrieve a more complete dataset in a programmatic manner. In this lab, you will write a query of businesses on Yelp, then use *pagination* to retrieve all possible results for that query. Then you will pre-process and analyze your data, leading to a presentation of your findings.\n",
    "\n",
    "## Requirements\n",
    "\n",
    "### 1. Make the Initial Request\n",
    "\n",
    "Start by filling in your API key to make the initial request to the business search API. \n",
    "\n",
    "### 2. Add Pagination\n",
    "\n",
    "Using loops and functions, collect the maximum number of results for your query from the API.\n",
    "\n",
    "### 3. Prepare Data\n",
    "\n",
    "Investigate the structure of the response you get back and extract the relevant information.\n",
    "\n",
    "### 4. Perform Descriptive Analysis\n",
    "\n",
    "Interpret visualizations related to the price range, average rating, and number of reviews for all query results.\n",
    "\n",
    "### 5. Create Presentation Notebook\n",
    "\n",
    "Edit this notebook or create a new one to showcase your work."
   ]
  },
  {
   "cell_type": "markdown",
   "metadata": {},
   "source": [
    "# 1. Make the Initial Request\n",
    "\n",
    "## Querying\n",
    "\n",
    "Start by making an initial request to the Yelp API. Your search must include at least 2 parameters: **term** and **location**. For example, you might search for pizza restaurants in NYC. The term and location is up to you but make the request below.\n",
    "\n",
    "Use the `requests` library ([documentation here](https://requests.readthedocs.io/en/master/user/quickstart/#make-a-request)).\n",
    "\n",
    "You'll also need an API key from Yelp. If you haven't done this already, go to the Yelp [Manage App page](https://www.yelp.com/developers/v3/manage_app) and create a new app (after making an account if you haven't already)."
   ]
  },
  {
   "cell_type": "code",
   "execution_count": 43,
   "metadata": {},
   "outputs": [
    {
     "name": "stdout",
     "output_type": "stream",
     "text": [
      "200\n"
     ]
    }
   ],
   "source": [
    "# Replace None with appropriate code\n",
    "\n",
    "# Import the requests library\n",
    "\n",
    "import requests\n",
    "\n",
    "\n",
    "# Get this from the \"Manage App\" page. Make sure you set them\n",
    "# back to None before pushing this to GitHub, since otherwise\n",
    "# your credentials will be compromised# API copied and paste\n",
    "api_key = \"fpTGapITuo2yqRk9aHFJRQOmJDM36w07mR7I4c7onP0evIEol69nKhTdD97lgsg1BIEvm682KWaDDR4PGjTZZ6-cQQ3wlT96GzBPtytWuQOirM8pR00HYXtQaL4LYXYx\"\n",
    "\n",
    "# These can be whatever you want! But the solution uses \"pizza\"\n",
    "# and \"New York NY\" if you want to compare your work directly\n",
    "term = \"pizza\"\n",
    "location = \"New York NY\"\n",
    "\n",
    "# Set up params for request\n",
    "url = \"https://api.yelp.com/v3/businesses/search\"\n",
    "headers = {\n",
    "    \"Authorization\": \"Bearer {}\".format(api_key)\n",
    "}\n",
    "url_params = {\n",
    "    \"term\": term.replace(\" \", \"+\"),\n",
    "    \"location\": location.replace(\" \", \"+\")\n",
    "}\n",
    "\n",
    "# Make the request using requests.get, passing in\n",
    "# url, headers=headers, and params=url_params\n",
    "response = requests.get(url,headers = headers, params = url_params)\n",
    "\n",
    "# Confirm we got a 200 response\n",
    "print(response.status_code)"
   ]
  },
  {
   "cell_type": "code",
   "execution_count": 44,
   "metadata": {},
   "outputs": [
    {
     "name": "stdout",
     "output_type": "stream",
     "text": [
      "200\n"
     ]
    }
   ],
   "source": [
    "print(requests.codes.ok)\n"
   ]
  },
  {
   "cell_type": "code",
   "execution_count": 45,
   "metadata": {},
   "outputs": [
    {
     "data": {
      "text/plain": [
       "dict_keys(['businesses', 'total', 'region'])"
      ]
     },
     "execution_count": 45,
     "metadata": {},
     "output_type": "execute_result"
    }
   ],
   "source": [
    "# Run this cell without changes\n",
    "\n",
    "# Get the response body in JSON format\n",
    "response_json = response.json()\n",
    "# View the keys\n",
    "response_json.keys()"
   ]
  },
  {
   "cell_type": "code",
   "execution_count": 46,
   "metadata": {},
   "outputs": [
    {
     "name": "stdout",
     "output_type": "stream",
     "text": [
      "{\"businesses\": [{\"id\": \"zj8Lq1T8KIC5zwFief15jg\", \"alias\": \"prince-street-pizza-new-york-2\", \"name\": \"Prince Street Pizza\", \"image_url\": \"https://s3-media3.fl.yelpcdn.com/bphoto/ZAukOyv530w4KjOHC5YY1w/o.jpg\", \"is_closed\": false, \"url\": \"https://www.yelp.com/biz/prince-street-pizza-new-york-2?adjust_creative=9QCSFrjBHPZxM3U81nlW0w&utm_campaign=yelp_api_v3&utm_medium=api_v3_business_search&utm_source=9QCSFrjBHPZxM3U81nlW0w\", \"review_count\": 3934, \"categories\": [{\"alias\": \"pizza\", \"title\": \"Pizza\"}, {\"alias\": \"italian\", \"title\": \"Italian\"}], \"rating\": 4.5, \"coordinates\": {\"latitude\": 40.72308755605564, \"longitude\": -73.99453001177575}, \"transactions\": [\"delivery\", \"pickup\"], \"price\": \"$\", \"location\": {\"address1\": \"27 Prince St\", \"address2\": null, \"address3\": \"\", \"city\": \"New York\", \"zip_code\": \"10012\", \"country\": \"US\", \"state\": \"NY\", \"display_address\": [\"27 Prince St\", \"New York, NY 10012\"]}, \"phone\": \"+12129664100\", \"display_phone\": \"(212) 966-4100\", \"distance\": 1961.8771417367063}, {\"id\": \"ysqgdbSrezXgVwER2kQWKA\", \"alias\": \"julianas-brooklyn-3\", \"name\": \"Juliana's\", \"image_url\": \"https://s3-media2.fl.yelpcdn.com/bphoto/clscwgOF9_Ecq-Rwsq7jyQ/o.jpg\", \"is_closed\": false, \"url\": \"https://www.yelp.com/biz/julianas-brooklyn-3?adjust_creative=9QCSFrjBHPZxM3U81nlW0w&utm_campaign=yelp_api_v3&utm_medium=api_v3_business_search&utm_source=9QCSFrjBHPZxM3U81nlW0w\", \"review_count\": 2338, \"categories\": [{\"alias\": \"pizza\", \"title\": \"Pizza\"}], \"rating\": 4.5, \"coordinates\": {\"latitude\": 40.70274718768062, \"longitude\": -73.99343490196397}, \"transactions\": [\"delivery\"], \"price\": \"$$\", \"location\": {\"address1\": \"19 Old Fulton St\", \"address2\": \"\", \"address3\": \"\", \"city\": \"Brooklyn\", \"zip_code\": \"11201\", \"country\": \"US\", \"state\": \"NY\", \"display_address\": [\"19 Old Fulton St\", \"Brooklyn, NY 11201\"]}, \"phone\": \"+17185966700\", \"display_phone\": \"(718) 596-6700\", \"distance\": 308.56984360837544}, {\"id\": \"WIhm0W9197f_rRtDziq5qQ\", \"alias\": \"lombardis-pizza-new-york-4\", \"name\": \"Lombardi's Pizza\", \"image_url\": \"https://s3-media1.fl.yelpcdn.com/bphoto/UZ6V_hobp1KpYDPOHNoCKw/o.jpg\", \"is_closed\": false, \"url\": \"https://www.yelp.com/biz/lombardis-pizza-new-york-4?adjust_creative=9QCSFrjBHPZxM3U81nlW0w&utm_campaign=yelp_api_v3&utm_medium=api_v3_business_search&utm_source=9QCSFrjBHPZxM3U81nlW0w\", \"review_count\": 6179, \"categories\": [{\"alias\": \"pizza\", \"title\": \"Pizza\"}], \"rating\": 4.0, \"coordinates\": {\"latitude\": 40.7215934960083, \"longitude\": -73.9955956044561}, \"transactions\": [\"delivery\", \"pickup\"], \"price\": \"$$\", \"location\": {\"address1\": \"32 Spring St\", \"address2\": \"\", \"address3\": \"\", \"city\": \"New York\", \"zip_code\": \"10012\", \"country\": \"US\", \"state\": \"NY\", \"display_address\": [\"32 Spring St\", \"New York, NY 10012\"]}, \"phone\": \"+12129417994\", \"display_phone\": \"(212) 941-7994\", \"distance\": 1798.9959778083735}, {\"id\": \"Q9F2ocrmYuGt1yn3M7MOBw\", \"alias\": \"lucali-brooklyn-3\", \"name\": \"Lucali\", \"image_url\": \"https://s3-media3.fl.yelpcdn.com/bphoto/Yl_eZ_DW_iaumnU-pfSoaw/o.jpg\", \"is_closed\": false, \"url\": \"https://www.yelp.com/biz/lucali-brooklyn-3?adjust_creative=9QCSFrjBHPZxM3U81nlW0w&utm_campaign=yelp_api_v3&utm_medium=api_v3_business_search&utm_source=9QCSFrjBHPZxM3U81nlW0w\", \"review_count\": 1697, \"categories\": [{\"alias\": \"pizza\", \"title\": \"Pizza\"}], \"rating\": 4.0, \"coordinates\": {\"latitude\": 40.6818, \"longitude\": -74.00024}, \"transactions\": [\"delivery\"], \"price\": \"$$\", \"location\": {\"address1\": \"575 Henry St\", \"address2\": null, \"address3\": \"\", \"city\": \"Brooklyn\", \"zip_code\": \"11231\", \"country\": \"US\", \"state\": \"NY\", \"display_address\": [\"575 Henry St\", \"Brooklyn, NY 11231\"]}, \"phone\": \"+17188584086\", \"display_phone\": \"(718) 858-4086\", \"distance\": 2677.3041083372636}, {\"id\": \"WG639VkTjmK5dzydd1BBJA\", \"alias\": \"rubirosa-new-york-2\", \"name\": \"Rubirosa\", \"image_url\": \"https://s3-media4.fl.yelpcdn.com/bphoto/LuSzR8cpVQRofXOT_bMi1A/o.jpg\", \"is_closed\": false, \"url\": \"https://www.yelp.com/biz/rubirosa-new-york-2?adjust_creative=9QCSFrjBHPZxM3U81nlW0w&utm_campaign=yelp_api_v3&utm_medium=api_v3_business_search&utm_source=9QCSFrjBHPZxM3U81nlW0w\", \"review_count\": 2420, \"categories\": [{\"alias\": \"italian\", \"title\": \"Italian\"}, {\"alias\": \"pizza\", \"title\": \"Pizza\"}], \"rating\": 4.5, \"coordinates\": {\"latitude\": 40.722766, \"longitude\": -73.996233}, \"transactions\": [\"delivery\", \"pickup\"], \"price\": \"$$\", \"location\": {\"address1\": \"235 Mulberry St\", \"address2\": \"\", \"address3\": \"\", \"city\": \"New York\", \"zip_code\": \"10012\", \"country\": \"US\", \"state\": \"NY\", \"display_address\": [\"235 Mulberry St\", \"New York, NY 10012\"]}, \"phone\": \"+12129650500\", \"display_phone\": \"(212) 965-0500\", \"distance\": 1932.9467701334759}, {\"id\": \"uc5qQMzs96rzjK27epDCug\", \"alias\": \"joes-pizza-new-york-4\", \"name\": \"Joe's Pizza\", \"image_url\": \"https://s3-media4.fl.yelpcdn.com/bphoto/1TvTRG9HFmEGaTSBMcUBhA/o.jpg\", \"is_closed\": false, \"url\": \"https://www.yelp.com/biz/joes-pizza-new-york-4?adjust_creative=9QCSFrjBHPZxM3U81nlW0w&utm_campaign=yelp_api_v3&utm_medium=api_v3_business_search&utm_source=9QCSFrjBHPZxM3U81nlW0w\", \"review_count\": 2654, \"categories\": [{\"alias\": \"pizza\", \"title\": \"Pizza\"}], \"rating\": 4.0, \"coordinates\": {\"latitude\": 40.73055520355198, \"longitude\": -74.00211632377929}, \"transactions\": [\"delivery\"], \"price\": \"$\", \"location\": {\"address1\": \"7 Carmine St\", \"address2\": \"\", \"address3\": \"\", \"city\": \"New York\", \"zip_code\": \"10014\", \"country\": \"US\", \"state\": \"NY\", \"display_address\": [\"7 Carmine St\", \"New York, NY 10014\"]}, \"phone\": \"+12123661182\", \"display_phone\": \"(212) 366-1182\", \"distance\": 2868.92614912821}, {\"id\": \"pGr5QuQU7Ur5GHLvXbT8bw\", \"alias\": \"paulie-gees-brooklyn\", \"name\": \"Paulie Gee's\", \"image_url\": \"https://s3-media2.fl.yelpcdn.com/bphoto/1j39J4NABK_RBtO-l90QNg/o.jpg\", \"is_closed\": false, \"url\": \"https://www.yelp.com/biz/paulie-gees-brooklyn?adjust_creative=9QCSFrjBHPZxM3U81nlW0w&utm_campaign=yelp_api_v3&utm_medium=api_v3_business_search&utm_source=9QCSFrjBHPZxM3U81nlW0w\", \"review_count\": 1279, \"categories\": [{\"alias\": \"pizza\", \"title\": \"Pizza\"}], \"rating\": 4.5, \"coordinates\": {\"latitude\": 40.729546, \"longitude\": -73.958568}, \"transactions\": [\"delivery\"], \"price\": \"$$\", \"location\": {\"address1\": \"60 Greenpoint Ave\", \"address2\": \"\", \"address3\": \"\", \"city\": \"Brooklyn\", \"zip_code\": \"11222\", \"country\": \"US\", \"state\": \"NY\", \"display_address\": [\"60 Greenpoint Ave\", \"Brooklyn, NY 11222\"]}, \"phone\": \"+13479873747\", \"display_phone\": \"(347) 987-3747\", \"distance\": 4027.308250680752}, {\"id\": \"v1DHGRNCH9247WLYoaoA9A\", \"alias\": \"l-industrie-pizzeria-brooklyn\", \"name\": \"L'industrie Pizzeria\", \"image_url\": \"https://s3-media2.fl.yelpcdn.com/bphoto/SRL_RztRRUijgQwt67daGw/o.jpg\", \"is_closed\": false, \"url\": \"https://www.yelp.com/biz/l-industrie-pizzeria-brooklyn?adjust_creative=9QCSFrjBHPZxM3U81nlW0w&utm_campaign=yelp_api_v3&utm_medium=api_v3_business_search&utm_source=9QCSFrjBHPZxM3U81nlW0w\", \"review_count\": 586, \"categories\": [{\"alias\": \"pizza\", \"title\": \"Pizza\"}], \"rating\": 4.5, \"coordinates\": {\"latitude\": 40.71162, \"longitude\": -73.95783}, \"transactions\": [\"delivery\"], \"price\": \"$\", \"location\": {\"address1\": \"254 S 2nd St\", \"address2\": \"\", \"address3\": \"\", \"city\": \"Brooklyn\", \"zip_code\": \"11211\", \"country\": \"US\", \"state\": \"NY\", \"display_address\": [\"254 S 2nd St\", \"Brooklyn, NY 11211\"]}, \"phone\": \"+17185990002\", \"display_phone\": \"(718) 599-0002\", \"distance\": 3145.016041338447}, {\"id\": \"FhXjAc6nKLf414KxYujUHw\", \"alias\": \"robertas-brooklyn-2\", \"name\": \"Roberta's\", \"image_url\": \"https://s3-media4.fl.yelpcdn.com/bphoto/8fY9fA5TtCF0ebdTNph9mQ/o.jpg\", \"is_closed\": false, \"url\": \"https://www.yelp.com/biz/robertas-brooklyn-2?adjust_creative=9QCSFrjBHPZxM3U81nlW0w&utm_campaign=yelp_api_v3&utm_medium=api_v3_business_search&utm_source=9QCSFrjBHPZxM3U81nlW0w\", \"review_count\": 2992, \"categories\": [{\"alias\": \"pizza\", \"title\": \"Pizza\"}, {\"alias\": \"italian\", \"title\": \"Italian\"}], \"rating\": 4.0, \"coordinates\": {\"latitude\": 40.70493, \"longitude\": -73.93399}, \"transactions\": [\"delivery\", \"pickup\"], \"price\": \"$$\", \"location\": {\"address1\": \"261 Moore St\", \"address2\": \"\", \"address3\": \"\", \"city\": \"Brooklyn\", \"zip_code\": \"11206\", \"country\": \"US\", \"state\": \"NY\", \"display_address\": [\"261 Moore St\", \"Brooklyn, NY 11206\"]}, \"phone\": \"+17184171118\", \"display_phone\": \"(718) 417-1118\", \"distance\": 5083.5233118395545}, {\"id\": \"LF1QAuvpfX7KGQlg2zMg6Q\", \"alias\": \"johns-of-bleecker-street-new-york-2\", \"name\": \"John's of Bleecker Street\", \"image_url\": \"https://s3-media2.fl.yelpcdn.com/bphoto/9_3Eim0f4ttMZFxdNp-lVA/o.jpg\", \"is_closed\": false, \"url\": \"https://www.yelp.com/biz/johns-of-bleecker-street-new-york-2?adjust_creative=9QCSFrjBHPZxM3U81nlW0w&utm_campaign=yelp_api_v3&utm_medium=api_v3_business_search&utm_source=9QCSFrjBHPZxM3U81nlW0w\", \"review_count\": 2135, \"categories\": [{\"alias\": \"pizza\", \"title\": \"Pizza\"}], \"rating\": 4.0, \"coordinates\": {\"latitude\": 40.73158, \"longitude\": -74.00332}, \"transactions\": [\"delivery\", \"pickup\"], \"price\": \"$$\", \"location\": {\"address1\": \"278 Bleecker St\", \"address2\": \"\", \"address3\": \"\", \"city\": \"New York\", \"zip_code\": \"10014\", \"country\": \"US\", \"state\": \"NY\", \"display_address\": [\"278 Bleecker St\", \"New York, NY 10014\"]}, \"phone\": \"+12122431680\", \"display_phone\": \"(212) 243-1680\", \"distance\": 3010.899021476809}, {\"id\": \"mGatsC5iEsJtxtIdHGvRQg\", \"alias\": \"frankie-and-vali-s-brooklyn\", \"name\": \"Frankie and Vali\\u2019s\", \"image_url\": \"https://s3-media2.fl.yelpcdn.com/bphoto/2Q-MaBfkM_yptvnS74CnAw/o.jpg\", \"is_closed\": false, \"url\": \"https://www.yelp.com/biz/frankie-and-vali-s-brooklyn?adjust_creative=9QCSFrjBHPZxM3U81nlW0w&utm_campaign=yelp_api_v3&utm_medium=api_v3_business_search&utm_source=9QCSFrjBHPZxM3U81nlW0w\", \"review_count\": 3, \"categories\": [{\"alias\": \"pizza\", \"title\": \"Pizza\"}], \"rating\": 5.0, \"coordinates\": {\"latitude\": 40.68752, \"longitude\": -73.95442}, \"transactions\": [], \"location\": {\"address1\": \"1063 Bedford Ave\", \"address2\": \"\", \"address3\": null, \"city\": \"Brooklyn\", \"zip_code\": \"11216\", \"country\": \"US\", \"state\": \"NY\", \"display_address\": [\"1063 Bedford Ave\", \"Brooklyn, NY 11216\"]}, \"phone\": \"\", \"display_phone\": \"\", \"distance\": 3906.9200586022075}, {\"id\": \"2ggi1luerd3Mf_C82JvCYg\", \"alias\": \"grimaldis-pizzeria-brooklyn-4\", \"name\": \"Grimaldi's Pizzeria\", \"image_url\": \"https://s3-media2.fl.yelpcdn.com/bphoto/KnocNRTl04953MdDXH9y7Q/o.jpg\", \"is_closed\": false, \"url\": \"https://www.yelp.com/biz/grimaldis-pizzeria-brooklyn-4?adjust_creative=9QCSFrjBHPZxM3U81nlW0w&utm_campaign=yelp_api_v3&utm_medium=api_v3_business_search&utm_source=9QCSFrjBHPZxM3U81nlW0w\", \"review_count\": 4670, \"categories\": [{\"alias\": \"pizza\", \"title\": \"Pizza\"}], \"rating\": 3.5, \"coordinates\": {\"latitude\": 40.702583, \"longitude\": -73.9932413}, \"transactions\": [\"delivery\", \"pickup\"], \"price\": \"$$\", \"location\": {\"address1\": \"1 Front St\", \"address2\": \"\", \"address3\": \"\", \"city\": \"Brooklyn\", \"zip_code\": \"11201\", \"country\": \"US\", \"state\": \"NY\", \"display_address\": [\"1 Front St\", \"Brooklyn, NY 11201\"]}, \"phone\": \"+17188584300\", \"display_phone\": \"(718) 858-4300\", \"distance\": 330.34746206527655}, {\"id\": \"C8j0q4Ma_S5hBGuAI-aaww\", \"alias\": \"di-fara-pizza-brooklyn\", \"name\": \"Di Fara Pizza\", \"image_url\": \"https://s3-media3.fl.yelpcdn.com/bphoto/4dfe9qpe20P-vi3qFjWd4Q/o.jpg\", \"is_closed\": false, \"url\": \"https://www.yelp.com/biz/di-fara-pizza-brooklyn?adjust_creative=9QCSFrjBHPZxM3U81nlW0w&utm_campaign=yelp_api_v3&utm_medium=api_v3_business_search&utm_source=9QCSFrjBHPZxM3U81nlW0w\", \"review_count\": 3634, \"categories\": [{\"alias\": \"pizza\", \"title\": \"Pizza\"}], \"rating\": 4.0, \"coordinates\": {\"latitude\": 40.625093, \"longitude\": -73.961531}, \"transactions\": [\"delivery\", \"pickup\"], \"price\": \"$$\", \"location\": {\"address1\": \"1424 Ave J\", \"address2\": \"\", \"address3\": \"\", \"city\": \"Brooklyn\", \"zip_code\": \"11230\", \"country\": \"US\", \"state\": \"NY\", \"display_address\": [\"1424 Ave J\", \"Brooklyn, NY 11230\"]}, \"phone\": \"+17182581367\", \"display_phone\": \"(718) 258-1367\", \"distance\": 9352.269072867253}, {\"id\": \"qoBcWhGwlcUsKIQ2nB22vA\", \"alias\": \"lombardos-of-bay-ridge-brooklyn-2\", \"name\": \"Lombardo's of Bay Ridge\", \"image_url\": \"https://s3-media2.fl.yelpcdn.com/bphoto/dApR-oBFGa2kQIpmEeasfA/o.jpg\", \"is_closed\": false, \"url\": \"https://www.yelp.com/biz/lombardos-of-bay-ridge-brooklyn-2?adjust_creative=9QCSFrjBHPZxM3U81nlW0w&utm_campaign=yelp_api_v3&utm_medium=api_v3_business_search&utm_source=9QCSFrjBHPZxM3U81nlW0w\", \"review_count\": 152, \"categories\": [{\"alias\": \"pizza\", \"title\": \"Pizza\"}], \"rating\": 5.0, \"coordinates\": {\"latitude\": 40.634741, \"longitude\": -74.0284259}, \"transactions\": [\"pickup\"], \"price\": \"$$\", \"location\": {\"address1\": \"279 71st St\", \"address2\": null, \"address3\": \"\", \"city\": \"Brooklyn\", \"zip_code\": \"11209\", \"country\": \"US\", \"state\": \"NY\", \"display_address\": [\"279 71st St\", \"Brooklyn, NY 11209\"]}, \"phone\": \"+17182387100\", \"display_phone\": \"(718) 238-7100\", \"distance\": 8367.095256061873}, {\"id\": \"_4_dslVqeefwxJ-ZNX6Pog\", \"alias\": \"baby-luc-s-brooklyn\", \"name\": \"Baby Luc\\u2019s\", \"image_url\": \"https://s3-media3.fl.yelpcdn.com/bphoto/kmvhRNakqeYsKeRRrCOAbQ/o.jpg\", \"is_closed\": false, \"url\": \"https://www.yelp.com/biz/baby-luc-s-brooklyn?adjust_creative=9QCSFrjBHPZxM3U81nlW0w&utm_campaign=yelp_api_v3&utm_medium=api_v3_business_search&utm_source=9QCSFrjBHPZxM3U81nlW0w\", \"review_count\": 5, \"categories\": [{\"alias\": \"pizza\", \"title\": \"Pizza\"}], \"rating\": 3.5, \"coordinates\": {\"latitude\": 40.68010063450117, \"longitude\": -73.99684270596433}, \"transactions\": [], \"location\": {\"address1\": \"387 Court St\", \"address2\": \"\", \"address3\": null, \"city\": \"Brooklyn\", \"zip_code\": \"11231\", \"country\": \"US\", \"state\": \"NY\", \"display_address\": [\"387 Court St\", \"Brooklyn, NY 11231\"]}, \"phone\": \"\", \"display_phone\": \"\", \"distance\": 2826.332053526049}, {\"id\": \"0UdC0VYX6aAvLiOcpR4MVQ\", \"alias\": \"joes-pizza-new-york-7\", \"name\": \"Joe's Pizza\", \"image_url\": \"https://s3-media3.fl.yelpcdn.com/bphoto/BTCcvlqxlp2MOeK_rHa8lQ/o.jpg\", \"is_closed\": false, \"url\": \"https://www.yelp.com/biz/joes-pizza-new-york-7?adjust_creative=9QCSFrjBHPZxM3U81nlW0w&utm_campaign=yelp_api_v3&utm_medium=api_v3_business_search&utm_source=9QCSFrjBHPZxM3U81nlW0w\", \"review_count\": 944, \"categories\": [{\"alias\": \"pizza\", \"title\": \"Pizza\"}], \"rating\": 4.0, \"coordinates\": {\"latitude\": 40.73331, \"longitude\": -73.98763}, \"transactions\": [\"delivery\", \"pickup\"], \"price\": \"$\", \"location\": {\"address1\": \"150 E 14th St\", \"address2\": \"\", \"address3\": \"\", \"city\": \"New York\", \"zip_code\": \"10003\", \"country\": \"US\", \"state\": \"NY\", \"display_address\": [\"150 E 14th St\", \"New York, NY 10003\"]}, \"phone\": \"+12123889474\", \"display_phone\": \"(212) 388-9474\", \"distance\": 3152.5373085823726}, {\"id\": \"oJ_XSPZFpvIt6rvheSQl7A\", \"alias\": \"bleecker-street-pizza-new-york\", \"name\": \"Bleecker Street Pizza\", \"image_url\": \"https://s3-media4.fl.yelpcdn.com/bphoto/Kyi2tP43S_a6s-zXD38NUQ/o.jpg\", \"is_closed\": false, \"url\": \"https://www.yelp.com/biz/bleecker-street-pizza-new-york?adjust_creative=9QCSFrjBHPZxM3U81nlW0w&utm_campaign=yelp_api_v3&utm_medium=api_v3_business_search&utm_source=9QCSFrjBHPZxM3U81nlW0w\", \"review_count\": 2436, \"categories\": [{\"alias\": \"pizza\", \"title\": \"Pizza\"}, {\"alias\": \"italian\", \"title\": \"Italian\"}], \"rating\": 4.0, \"coordinates\": {\"latitude\": 40.7320627016512, \"longitude\": -74.0036552270137}, \"transactions\": [\"delivery\", \"pickup\"], \"price\": \"$\", \"location\": {\"address1\": \"69 7th Ave S\", \"address2\": null, \"address3\": \"\", \"city\": \"New York\", \"zip_code\": \"10014\", \"country\": \"US\", \"state\": \"NY\", \"display_address\": [\"69 7th Ave S\", \"New York, NY 10014\"]}, \"phone\": \"+12129244466\", \"display_phone\": \"(212) 924-4466\", \"distance\": 3073.5742196084057}, {\"id\": \"G77Q6kU-7qRefColCRTS0w\", \"alias\": \"robertas-brooklyn-5\", \"name\": \"Roberta's\", \"image_url\": \"https://s3-media2.fl.yelpcdn.com/bphoto/LL2pMBF8nGtob11nKudndA/o.jpg\", \"is_closed\": false, \"url\": \"https://www.yelp.com/biz/robertas-brooklyn-5?adjust_creative=9QCSFrjBHPZxM3U81nlW0w&utm_campaign=yelp_api_v3&utm_medium=api_v3_business_search&utm_source=9QCSFrjBHPZxM3U81nlW0w\", \"review_count\": 30, \"categories\": [{\"alias\": \"pizza\", \"title\": \"Pizza\"}], \"rating\": 4.0, \"coordinates\": {\"latitude\": 40.71618788546057, \"longitude\": -73.96651754323669}, \"transactions\": [\"delivery\", \"pickup\"], \"location\": {\"address1\": \"6 Grand St\", \"address2\": \"\", \"address3\": null, \"city\": \"Brooklyn\", \"zip_code\": \"11249\", \"country\": \"US\", \"state\": \"NY\", \"display_address\": [\"6 Grand St\", \"Brooklyn, NY 11249\"]}, \"phone\": \"+17182782400\", \"display_phone\": \"(718) 278-2400\", \"distance\": 2628.2809301068355}, {\"id\": \"rZ9OFoSqy8u4WECfh--ylg\", \"alias\": \"marta-new-york-7\", \"name\": \"Marta\", \"image_url\": \"https://s3-media2.fl.yelpcdn.com/bphoto/GOcIIE1qftipaHhFGAlLuw/o.jpg\", \"is_closed\": false, \"url\": \"https://www.yelp.com/biz/marta-new-york-7?adjust_creative=9QCSFrjBHPZxM3U81nlW0w&utm_campaign=yelp_api_v3&utm_medium=api_v3_business_search&utm_source=9QCSFrjBHPZxM3U81nlW0w\", \"review_count\": 903, \"categories\": [{\"alias\": \"pizza\", \"title\": \"Pizza\"}, {\"alias\": \"italian\", \"title\": \"Italian\"}], \"rating\": 4.0, \"coordinates\": {\"latitude\": 40.7445882, \"longitude\": -73.9847936}, \"transactions\": [], \"price\": \"$$$\", \"location\": {\"address1\": \"29 E 29th St\", \"address2\": \"\", \"address3\": \"\", \"city\": \"New York\", \"zip_code\": \"10016\", \"country\": \"US\", \"state\": \"NY\", \"display_address\": [\"29 E 29th St\", \"New York, NY 10016\"]}, \"phone\": \"+12126513800\", \"display_phone\": \"(212) 651-3800\", \"distance\": 4444.4428187583135}, {\"id\": \"oOr6Ta5gZyDl6PyZ1cq7pg\", \"alias\": \"east-village-pizza-new-york\", \"name\": \"East Village Pizza\", \"image_url\": \"https://s3-media2.fl.yelpcdn.com/bphoto/JiV117pdeH3hG6J91KfPeA/o.jpg\", \"is_closed\": false, \"url\": \"https://www.yelp.com/biz/east-village-pizza-new-york?adjust_creative=9QCSFrjBHPZxM3U81nlW0w&utm_campaign=yelp_api_v3&utm_medium=api_v3_business_search&utm_source=9QCSFrjBHPZxM3U81nlW0w\", \"review_count\": 376, \"categories\": [{\"alias\": \"pizza\", \"title\": \"Pizza\"}, {\"alias\": \"italian\", \"title\": \"Italian\"}], \"rating\": 4.0, \"coordinates\": {\"latitude\": 40.728199, \"longitude\": -73.985182}, \"transactions\": [\"delivery\", \"pickup\"], \"price\": \"$\", \"location\": {\"address1\": \"145 1st Ave\", \"address2\": \"\", \"address3\": \"\", \"city\": \"New York\", \"zip_code\": \"10003\", \"country\": \"US\", \"state\": \"NY\", \"display_address\": [\"145 1st Ave\", \"New York, NY 10003\"]}, \"phone\": \"+12125294545\", \"display_phone\": \"(212) 529-4545\", \"distance\": 2643.8575043591286}], \"total\": 11800, \"region\": {\"center\": {\"longitude\": -73.99429321289062, \"latitude\": 40.70544486444615}}}\n"
     ]
    }
   ],
   "source": [
    "print(response.text)"
   ]
  },
  {
   "cell_type": "markdown",
   "metadata": {},
   "source": [
    "## Extracting Data\n",
    "\n",
    "Now, retrieve the value associated with the `'businesses'` key, and inspect its contents."
   ]
  },
  {
   "cell_type": "code",
   "execution_count": 47,
   "metadata": {},
   "outputs": [
    {
     "name": "stdout",
     "output_type": "stream",
     "text": [
      "There are 10 businesses in this response\n",
      "bu\n"
     ]
    }
   ],
   "source": [
    "# Replace None with appropriate code\n",
    "\n",
    "# Retrieve the value from response_json\n",
    "businesses = \"businesses\"\n",
    "\n",
    "# View number of records\n",
    "print(f\"There are {len(businesses)} businesses in this response\")\n",
    "\n",
    "# View the first 2 records\n",
    "print(businesses[:2])"
   ]
  },
  {
   "cell_type": "markdown",
   "metadata": {},
   "source": [
    "# 2. Add Pagination\n",
    "\n",
    "Now that you are able to get one set of responses, known as a **page**, let's figure out how to request as many pages as possible.\n",
    "\n",
    "## Technical Details\n",
    "\n",
    "Returning to the Yelp API, the [documentation](https://www.yelp.com/developers/documentation/v3/business_search) also provides us details regarding the **API limits**. These often include details about the number of requests a user is allowed to make within a specified time limit and the maximum number of results to be returned. In this case, we are told that any request has a **maximum of 50 results per request** and defaults to 20. Furthermore, any search will be limited to a **total of 1000 results**. To retrieve all 1000 of these results, we would have to page through the results piece by piece, retrieving 50 at a time. Processes such as these are often referred to as pagination.\n",
    "\n",
    "Also, be mindful of the **API** ***rate*** **limits**. You can only make **5000 requests per day** and are also can make requests too fast. Start prototyping small before running a loop that could be faulty. You can also use `time.sleep(n)` to add delays. For more details see https://www.yelp.com/developers/documentation/v3/rate_limiting.\n",
    "\n",
    "In this lab, you will define a search and then paginate over the results to retrieve all of the results. You'll then parse these responses as a list of dictionaries (for further exploration) and create a map using Folium to visualize the results geographically.\n",
    "\n",
    "## Determining the Total\n",
    "\n",
    "Depending on the number of total results for your query, you will either retrieve all of the results, or just the first 1000 (if there are more than 1000 total).\n",
    "\n",
    "We can find the total number of results using the `\"total\"` key:"
   ]
  },
  {
   "cell_type": "code",
   "execution_count": 48,
   "metadata": {},
   "outputs": [
    {
     "data": {
      "text/plain": [
       "11800"
      ]
     },
     "execution_count": 48,
     "metadata": {},
     "output_type": "execute_result"
    }
   ],
   "source": [
    "# Run this cell without changes\n",
    "response_json[\"total\"]"
   ]
  },
  {
   "cell_type": "markdown",
   "metadata": {},
   "source": [
    "(This is specific to the implementation of the Yelp API. Some APIs will just tell you that there are more pages, or will tell you the number of pages total, rather than the total number of results. If you're not sure, always check the documentation.)\n",
    "\n",
    "In the cell below, assign the variable `total` to either the value shown above (if it is less than 1000), or 1000."
   ]
  },
  {
   "cell_type": "code",
   "execution_count": 49,
   "metadata": {
    "collapsed": true
   },
   "outputs": [],
   "source": [
    "# Replace None with appropriate code\n",
    "total = 1000"
   ]
  },
  {
   "cell_type": "markdown",
   "metadata": {},
   "source": [
    "### Calculating the Offsets\n",
    "\n",
    "The documentation states in the parameters section:\n",
    "\n",
    "> **Name**: `limit`, **Type:** int, **Description:** Optional. Number of business results to return. By default, it will return 20. Maximum is 50.\n",
    "\n",
    "> **Name**: `offset`, **Type:** int, **Description:** Optional. Offset the list of returned business results by this amount.\n",
    "\n",
    "So, to get the most results with the fewest API calls we want to set a limit of 50 every time. If, say, we wanted to get 210 total results, that would mean:\n",
    "\n",
    "1. Offset of `0` (first 50 records)\n",
    "2. Offset of `50` (second 50 records)\n",
    "3. Offset of `100` (third 50 records)\n",
    "4. Offset of `150` (fourth 50 records)\n",
    "5. Offset of `200` (final 10 records)\n",
    "\n",
    "In the cell below, create a function `get_offsets` that takes in a total and returns a list of offsets for that total. You can assume that there is a limit of 50 every time.\n",
    "\n",
    "*Hint: you can use `range` ([documentation here](https://docs.python.org/3.3/library/stdtypes.html?highlight=range#range)) to do this in one line of code. Just make the returned result is a list.*"
   ]
  },
  {
   "cell_type": "code",
   "execution_count": 50,
   "metadata": {
    "collapsed": true
   },
   "outputs": [],
   "source": [
    "# Replace None with appropriate code\n",
    "def get_offsets(total):\n",
    "    \"\"\"\n",
    "    Get a list of offsets needed to get all pages\n",
    "    of data up until the total\n",
    "    \"\"\"\n",
    "    start = 0\n",
    "    stop = total\n",
    "    step = 50\n",
    "    \n",
    "    return list(range(start, stop, step))"
   ]
  },
  {
   "cell_type": "markdown",
   "metadata": {},
   "source": [
    "Check that your function works below:"
   ]
  },
  {
   "cell_type": "code",
   "execution_count": 51,
   "metadata": {
    "collapsed": true
   },
   "outputs": [],
   "source": [
    "# Run this cell without changes\n",
    "assert get_offsets(200) == [0, 50, 100, 150]\n",
    "assert get_offsets(210) == [0, 50, 100, 150, 200]"
   ]
  },
  {
   "cell_type": "markdown",
   "metadata": {},
   "source": [
    "### Putting It All Together\n",
    "\n",
    "Recall that the following variable has already been declared for you:"
   ]
  },
  {
   "cell_type": "code",
   "execution_count": 52,
   "metadata": {},
   "outputs": [
    {
     "data": {
      "text/plain": [
       "{'location': 'New+York+NY', 'term': 'pizza'}"
      ]
     },
     "execution_count": 52,
     "metadata": {},
     "output_type": "execute_result"
    }
   ],
   "source": [
    "# Run this cell without changes\n",
    "url_params"
   ]
  },
  {
   "cell_type": "markdown",
   "metadata": {},
   "source": [
    "We'll go ahead and also specify that the limit should be 50 every time:"
   ]
  },
  {
   "cell_type": "code",
   "execution_count": 53,
   "metadata": {
    "collapsed": true
   },
   "outputs": [],
   "source": [
    "# Run this cell without changes\n",
    "url_params[\"limit\"] = 50"
   ]
  },
  {
   "cell_type": "markdown",
   "metadata": {},
   "source": [
    "In order to modify the offset, you'll need to add it to `url_params` with the key `\"offset\"` and whatever value is needed.\n",
    "\n",
    "In the cell below, write code that:\n",
    "\n",
    "* Creates an empty list for the full prepared dataset\n",
    "* Loops over all of the offsets from `get_offsets` and makes an API call each time with the specified offset\n",
    "* Extends the full dataset list with each query's dataset"
   ]
  },
  {
   "cell_type": "code",
   "execution_count": 54,
   "metadata": {},
   "outputs": [
    {
     "data": {
      "text/plain": [
       "1000"
      ]
     },
     "execution_count": 54,
     "metadata": {},
     "output_type": "execute_result"
    }
   ],
   "source": [
    "# Replace None with appropriate code\n",
    "\n",
    "\n",
    "# Create an empty list for the full prepared dataset\n",
    "full_dataset = []\n",
    "\n",
    "for offset in get_offsets(total):\n",
    "    # Add or update the \"offset\" key-value pair in url_params\n",
    "    url_params['offset'] = 0\n",
    "    \n",
    "    # Make the query and get the response\n",
    "    response = requests.get(url, headers=headers, params=url_params)\n",
    "    \n",
    "    # Get the response body in JSON format\n",
    "    response_json = response.json()\n",
    "     \n",
    "       \n",
    "    # Get the list of businesses from the response_json\n",
    "    businesses =response_json['businesses']\n",
    "    \n",
    "    # Extend full_dataset with this list (don't append, or you'll get\n",
    "    # a list of lists instead of a flat list)\n",
    "    full_dataset += businesses\n",
    "\n",
    "# Check the length of the full dataset. It will be up to `total`,\n",
    "# potentially less if there were missing values\n",
    "len(full_dataset)\n",
    "    \n",
    "    "
   ]
  },
  {
   "cell_type": "markdown",
   "metadata": {},
   "source": [
    "This code may take up to a few minutes to run.\n",
    "\n",
    "If you get an error trying to get the response body in JSON format, try adding `time.sleep(1)` right after the `requests.get` line, so your code will sleep for 1 second between each API call."
   ]
  },
  {
   "cell_type": "markdown",
   "metadata": {},
   "source": [
    "# 3. Prepare Data\n",
    "\n",
    "Now that we have all of our data, let's prepare it for analysis. It can be helpful to start this process by inspecting the raw data."
   ]
  },
  {
   "cell_type": "code",
   "execution_count": 55,
   "metadata": {},
   "outputs": [
    {
     "data": {
      "text/plain": [
       "[{'alias': 'prince-street-pizza-new-york-2',\n",
       "  'categories': [{'alias': 'pizza', 'title': 'Pizza'},\n",
       "   {'alias': 'italian', 'title': 'Italian'}],\n",
       "  'coordinates': {'latitude': 40.72308755605564,\n",
       "   'longitude': -73.99453001177575},\n",
       "  'display_phone': '(212) 966-4100',\n",
       "  'distance': 1961.8771417367063,\n",
       "  'id': 'zj8Lq1T8KIC5zwFief15jg',\n",
       "  'image_url': 'https://s3-media3.fl.yelpcdn.com/bphoto/ZAukOyv530w4KjOHC5YY1w/o.jpg',\n",
       "  'is_closed': False,\n",
       "  'location': {'address1': '27 Prince St',\n",
       "   'address2': None,\n",
       "   'address3': '',\n",
       "   'city': 'New York',\n",
       "   'country': 'US',\n",
       "   'display_address': ['27 Prince St', 'New York, NY 10012'],\n",
       "   'state': 'NY',\n",
       "   'zip_code': '10012'},\n",
       "  'name': 'Prince Street Pizza',\n",
       "  'phone': '+12129664100',\n",
       "  'price': '$',\n",
       "  'rating': 4.5,\n",
       "  'review_count': 3934,\n",
       "  'transactions': ['delivery', 'pickup'],\n",
       "  'url': 'https://www.yelp.com/biz/prince-street-pizza-new-york-2?adjust_creative=9QCSFrjBHPZxM3U81nlW0w&utm_campaign=yelp_api_v3&utm_medium=api_v3_business_search&utm_source=9QCSFrjBHPZxM3U81nlW0w'},\n",
       " {'alias': 'julianas-brooklyn-3',\n",
       "  'categories': [{'alias': 'pizza', 'title': 'Pizza'}],\n",
       "  'coordinates': {'latitude': 40.70274718768062,\n",
       "   'longitude': -73.99343490196397},\n",
       "  'display_phone': '(718) 596-6700',\n",
       "  'distance': 308.56984360837544,\n",
       "  'id': 'ysqgdbSrezXgVwER2kQWKA',\n",
       "  'image_url': 'https://s3-media2.fl.yelpcdn.com/bphoto/clscwgOF9_Ecq-Rwsq7jyQ/o.jpg',\n",
       "  'is_closed': False,\n",
       "  'location': {'address1': '19 Old Fulton St',\n",
       "   'address2': '',\n",
       "   'address3': '',\n",
       "   'city': 'Brooklyn',\n",
       "   'country': 'US',\n",
       "   'display_address': ['19 Old Fulton St', 'Brooklyn, NY 11201'],\n",
       "   'state': 'NY',\n",
       "   'zip_code': '11201'},\n",
       "  'name': \"Juliana's\",\n",
       "  'phone': '+17185966700',\n",
       "  'price': '$$',\n",
       "  'rating': 4.5,\n",
       "  'review_count': 2338,\n",
       "  'transactions': ['delivery'],\n",
       "  'url': 'https://www.yelp.com/biz/julianas-brooklyn-3?adjust_creative=9QCSFrjBHPZxM3U81nlW0w&utm_campaign=yelp_api_v3&utm_medium=api_v3_business_search&utm_source=9QCSFrjBHPZxM3U81nlW0w'}]"
      ]
     },
     "execution_count": 55,
     "metadata": {},
     "output_type": "execute_result"
    }
   ],
   "source": [
    "# Run this cell without changes\n",
    "\n",
    "# View the first 2 records\n",
    "full_dataset[:2]"
   ]
  },
  {
   "cell_type": "markdown",
   "metadata": {},
   "source": [
    "Write a function `prepare_data` that takes in a list of dictionaries like `businesses` and returns a copy that has been prepared for analysis:\n",
    "\n",
    "1. The `coordinates` key-value pair has been converted into two separate key-value pairs, `latitude` and `longitude`\n",
    "2. All other key-value pairs except for `name`, `review_count`, `rating`, and `price` have been dropped\n",
    "3. All dictionaries missing one of the relevant keys or containing null values have been dropped\n",
    "\n",
    "In other words, the final keys for each dictionary should be `name`, `review_count`, `rating`, `price`, `latitude`, and `longitude`.\n",
    "\n",
    "Complete the function in the cell below:"
   ]
  },
  {
   "cell_type": "code",
   "execution_count": 132,
   "metadata": {},
   "outputs": [
    {
     "data": {
      "text/plain": [
       "[{'latitude': 40.72308755605564,\n",
       "  'longitude': -73.99453001177575,\n",
       "  'name': 'Prince Street Pizza',\n",
       "  'price': '$',\n",
       "  'rating': 4.5,\n",
       "  'review_count': 3934},\n",
       " {'latitude': 40.70274718768062,\n",
       "  'longitude': -73.99343490196397,\n",
       "  'name': \"Juliana's\",\n",
       "  'price': '$$',\n",
       "  'rating': 4.5,\n",
       "  'review_count': 2338},\n",
       " {'latitude': 40.7215934960083,\n",
       "  'longitude': -73.9955956044561,\n",
       "  'name': \"Lombardi's Pizza\",\n",
       "  'price': '$$',\n",
       "  'rating': 4.0,\n",
       "  'review_count': 6179},\n",
       " {'latitude': 40.6818,\n",
       "  'longitude': -74.00024,\n",
       "  'name': 'Lucali',\n",
       "  'price': '$$',\n",
       "  'rating': 4.0,\n",
       "  'review_count': 1697},\n",
       " {'latitude': 40.722766,\n",
       "  'longitude': -73.996233,\n",
       "  'name': 'Rubirosa',\n",
       "  'price': '$$',\n",
       "  'rating': 4.5,\n",
       "  'review_count': 2420},\n",
       " {'latitude': 40.73055520355198,\n",
       "  'longitude': -74.00211632377929,\n",
       "  'name': \"Joe's Pizza\",\n",
       "  'price': '$',\n",
       "  'rating': 4.0,\n",
       "  'review_count': 2654},\n",
       " {'latitude': 40.729546,\n",
       "  'longitude': -73.958568,\n",
       "  'name': \"Paulie Gee's\",\n",
       "  'price': '$$',\n",
       "  'rating': 4.5,\n",
       "  'review_count': 1279},\n",
       " {'latitude': 40.71162,\n",
       "  'longitude': -73.95783,\n",
       "  'name': \"L'industrie Pizzeria\",\n",
       "  'price': '$',\n",
       "  'rating': 4.5,\n",
       "  'review_count': 586},\n",
       " {'latitude': 40.70493,\n",
       "  'longitude': -73.93399,\n",
       "  'name': \"Roberta's\",\n",
       "  'price': '$$',\n",
       "  'rating': 4.0,\n",
       "  'review_count': 2992},\n",
       " {'latitude': 40.73158,\n",
       "  'longitude': -74.00332,\n",
       "  'name': \"John's of Bleecker Street\",\n",
       "  'price': '$$',\n",
       "  'rating': 4.0,\n",
       "  'review_count': 2135}]"
      ]
     },
     "execution_count": 132,
     "metadata": {},
     "output_type": "execute_result"
    }
   ],
   "source": [
    "# Replace None with appropriate code\n",
    "\n",
    "def prepare_data(data_list):\n",
    "    \"\"\"\n",
    "    This function takes in a list of dictionaries and prepares it\n",
    "    for analysis\n",
    "    \"\"\"\n",
    "    \n",
    "    # Make a new list to hold results\n",
    "    results = []\n",
    "\n",
    "        \n",
    "    for business_data in data_list:\n",
    "            \n",
    "#         # Make a new dictionary to hold prepared data for this business\n",
    "        prepared_data = {}    \n",
    "        # Extract name, review_count, rating, and price key-value pairs\n",
    "        # from business_data and add to prepared_data\n",
    "        # If a key is not present in business_data, add it to prepared_data\n",
    "        # with an associated value of None\n",
    "        prepared_data= {\"latitude\": business_data['coordinates']['latitude'],\"longitude\": business_data['coordinates']['longitude'],\"name\": business_data['name'],\"review_count\": business_data['review_count'],\"rating\": business_data['rating'],\"price\": business_data['price']}\n",
    "\n",
    "        \n",
    "        # Add to list if all values are present\n",
    "        if all(prepared_data.values()):\n",
    "            results.append(prepared_data)\n",
    "    \n",
    "    return results\n",
    "    \n",
    "# Test out function\n",
    "prepared_businesses = prepare_data(full_dataset[:10])\n",
    "prepared_businesses[:10]"
   ]
  },
  {
   "cell_type": "markdown",
   "metadata": {},
   "source": [
    "Check that your function created the correct keys:"
   ]
  },
  {
   "cell_type": "code",
   "execution_count": 125,
   "metadata": {},
   "outputs": [],
   "source": [
    "# Run this cell without changes\n",
    "\n",
    "assert sorted(list(prepared_businesses[0].keys())) == ['latitude', 'longitude', 'name', 'price', 'rating', 'review_count']"
   ]
  },
  {
   "cell_type": "markdown",
   "metadata": {},
   "source": [
    "The following code will differ depending on your query, but there may be fewer results in the prepared list than in the full dataset (if any of them were missing data):"
   ]
  },
  {
   "cell_type": "code",
   "execution_count": 126,
   "metadata": {},
   "outputs": [
    {
     "name": "stdout",
     "output_type": "stream",
     "text": [
      "Original: 1000\n",
      "Prepared: 10\n"
     ]
    }
   ],
   "source": [
    "# Run this cell without changes\n",
    "print(\"Original:\", len(full_dataset))\n",
    "print(\"Prepared:\", len(prepared_businesses))"
   ]
  },
  {
   "cell_type": "markdown",
   "metadata": {},
   "source": [
    "Great! Now let's create a DataFrame to hold our data - this will make our cleaning and analysis easier."
   ]
  },
  {
   "cell_type": "code",
   "execution_count": 128,
   "metadata": {},
   "outputs": [
    {
     "data": {
      "text/html": [
       "<div>\n",
       "<style>\n",
       "    .dataframe thead tr:only-child th {\n",
       "        text-align: right;\n",
       "    }\n",
       "\n",
       "    .dataframe thead th {\n",
       "        text-align: left;\n",
       "    }\n",
       "\n",
       "    .dataframe tbody tr th {\n",
       "        vertical-align: top;\n",
       "    }\n",
       "</style>\n",
       "<table border=\"1\" class=\"dataframe\">\n",
       "  <thead>\n",
       "    <tr style=\"text-align: right;\">\n",
       "      <th></th>\n",
       "      <th>latitude</th>\n",
       "      <th>longitude</th>\n",
       "      <th>name</th>\n",
       "      <th>price</th>\n",
       "      <th>rating</th>\n",
       "      <th>review_count</th>\n",
       "    </tr>\n",
       "  </thead>\n",
       "  <tbody>\n",
       "    <tr>\n",
       "      <th>0</th>\n",
       "      <td>40.723088</td>\n",
       "      <td>-73.994530</td>\n",
       "      <td>Prince Street Pizza</td>\n",
       "      <td>$</td>\n",
       "      <td>4.5</td>\n",
       "      <td>3934</td>\n",
       "    </tr>\n",
       "    <tr>\n",
       "      <th>1</th>\n",
       "      <td>40.702747</td>\n",
       "      <td>-73.993435</td>\n",
       "      <td>Juliana's</td>\n",
       "      <td>$$</td>\n",
       "      <td>4.5</td>\n",
       "      <td>2338</td>\n",
       "    </tr>\n",
       "    <tr>\n",
       "      <th>2</th>\n",
       "      <td>40.721593</td>\n",
       "      <td>-73.995596</td>\n",
       "      <td>Lombardi's Pizza</td>\n",
       "      <td>$$</td>\n",
       "      <td>4.0</td>\n",
       "      <td>6179</td>\n",
       "    </tr>\n",
       "    <tr>\n",
       "      <th>3</th>\n",
       "      <td>40.681800</td>\n",
       "      <td>-74.000240</td>\n",
       "      <td>Lucali</td>\n",
       "      <td>$$</td>\n",
       "      <td>4.0</td>\n",
       "      <td>1697</td>\n",
       "    </tr>\n",
       "    <tr>\n",
       "      <th>4</th>\n",
       "      <td>40.722766</td>\n",
       "      <td>-73.996233</td>\n",
       "      <td>Rubirosa</td>\n",
       "      <td>$$</td>\n",
       "      <td>4.5</td>\n",
       "      <td>2420</td>\n",
       "    </tr>\n",
       "    <tr>\n",
       "      <th>5</th>\n",
       "      <td>40.730555</td>\n",
       "      <td>-74.002116</td>\n",
       "      <td>Joe's Pizza</td>\n",
       "      <td>$</td>\n",
       "      <td>4.0</td>\n",
       "      <td>2654</td>\n",
       "    </tr>\n",
       "    <tr>\n",
       "      <th>6</th>\n",
       "      <td>40.729546</td>\n",
       "      <td>-73.958568</td>\n",
       "      <td>Paulie Gee's</td>\n",
       "      <td>$$</td>\n",
       "      <td>4.5</td>\n",
       "      <td>1279</td>\n",
       "    </tr>\n",
       "    <tr>\n",
       "      <th>7</th>\n",
       "      <td>40.711620</td>\n",
       "      <td>-73.957830</td>\n",
       "      <td>L'industrie Pizzeria</td>\n",
       "      <td>$</td>\n",
       "      <td>4.5</td>\n",
       "      <td>586</td>\n",
       "    </tr>\n",
       "    <tr>\n",
       "      <th>8</th>\n",
       "      <td>40.704930</td>\n",
       "      <td>-73.933990</td>\n",
       "      <td>Roberta's</td>\n",
       "      <td>$$</td>\n",
       "      <td>4.0</td>\n",
       "      <td>2992</td>\n",
       "    </tr>\n",
       "    <tr>\n",
       "      <th>9</th>\n",
       "      <td>40.731580</td>\n",
       "      <td>-74.003320</td>\n",
       "      <td>John's of Bleecker Street</td>\n",
       "      <td>$$</td>\n",
       "      <td>4.0</td>\n",
       "      <td>2135</td>\n",
       "    </tr>\n",
       "  </tbody>\n",
       "</table>\n",
       "</div>"
      ],
      "text/plain": [
       "    latitude  longitude                       name price  rating  review_count\n",
       "0  40.723088 -73.994530        Prince Street Pizza     $     4.5          3934\n",
       "1  40.702747 -73.993435                  Juliana's    $$     4.5          2338\n",
       "2  40.721593 -73.995596           Lombardi's Pizza    $$     4.0          6179\n",
       "3  40.681800 -74.000240                     Lucali    $$     4.0          1697\n",
       "4  40.722766 -73.996233                   Rubirosa    $$     4.5          2420\n",
       "5  40.730555 -74.002116                Joe's Pizza     $     4.0          2654\n",
       "6  40.729546 -73.958568               Paulie Gee's    $$     4.5          1279\n",
       "7  40.711620 -73.957830       L'industrie Pizzeria     $     4.5           586\n",
       "8  40.704930 -73.933990                  Roberta's    $$     4.0          2992\n",
       "9  40.731580 -74.003320  John's of Bleecker Street    $$     4.0          2135"
      ]
     },
     "execution_count": 128,
     "metadata": {},
     "output_type": "execute_result"
    }
   ],
   "source": [
    "# Replace None with appropriate code\n",
    "\n",
    "# Import pandas\n",
    "import pandas as pd\n",
    "\n",
    "# Create DataFrame from prepared business data\n",
    "business_df = pd.DataFrame(prepared_businesses)\n",
    "\n",
    "# Inspect the DataFrame\n",
    "business_df.head(10)"
   ]
  },
  {
   "cell_type": "markdown",
   "metadata": {},
   "source": [
    "To make analysis of prices easier, let's convert `price` to a numeric value indicating the number of dollar signs."
   ]
  },
  {
   "cell_type": "code",
   "execution_count": 136,
   "metadata": {},
   "outputs": [
    {
     "data": {
      "text/html": [
       "<div>\n",
       "<style>\n",
       "    .dataframe thead tr:only-child th {\n",
       "        text-align: right;\n",
       "    }\n",
       "\n",
       "    .dataframe thead th {\n",
       "        text-align: left;\n",
       "    }\n",
       "\n",
       "    .dataframe tbody tr th {\n",
       "        vertical-align: top;\n",
       "    }\n",
       "</style>\n",
       "<table border=\"1\" class=\"dataframe\">\n",
       "  <thead>\n",
       "    <tr style=\"text-align: right;\">\n",
       "      <th></th>\n",
       "      <th>latitude</th>\n",
       "      <th>longitude</th>\n",
       "      <th>name</th>\n",
       "      <th>price</th>\n",
       "      <th>rating</th>\n",
       "      <th>review_count</th>\n",
       "    </tr>\n",
       "  </thead>\n",
       "  <tbody>\n",
       "    <tr>\n",
       "      <th>0</th>\n",
       "      <td>40.723088</td>\n",
       "      <td>-73.994530</td>\n",
       "      <td>Prince Street Pizza</td>\n",
       "      <td>$</td>\n",
       "      <td>4.5</td>\n",
       "      <td>3934</td>\n",
       "    </tr>\n",
       "    <tr>\n",
       "      <th>1</th>\n",
       "      <td>40.702747</td>\n",
       "      <td>-73.993435</td>\n",
       "      <td>Juliana's</td>\n",
       "      <td>$$</td>\n",
       "      <td>4.5</td>\n",
       "      <td>2338</td>\n",
       "    </tr>\n",
       "    <tr>\n",
       "      <th>2</th>\n",
       "      <td>40.721593</td>\n",
       "      <td>-73.995596</td>\n",
       "      <td>Lombardi's Pizza</td>\n",
       "      <td>$$</td>\n",
       "      <td>4.0</td>\n",
       "      <td>6179</td>\n",
       "    </tr>\n",
       "    <tr>\n",
       "      <th>3</th>\n",
       "      <td>40.681800</td>\n",
       "      <td>-74.000240</td>\n",
       "      <td>Lucali</td>\n",
       "      <td>$$</td>\n",
       "      <td>4.0</td>\n",
       "      <td>1697</td>\n",
       "    </tr>\n",
       "    <tr>\n",
       "      <th>4</th>\n",
       "      <td>40.722766</td>\n",
       "      <td>-73.996233</td>\n",
       "      <td>Rubirosa</td>\n",
       "      <td>$$</td>\n",
       "      <td>4.5</td>\n",
       "      <td>2420</td>\n",
       "    </tr>\n",
       "    <tr>\n",
       "      <th>5</th>\n",
       "      <td>40.730555</td>\n",
       "      <td>-74.002116</td>\n",
       "      <td>Joe's Pizza</td>\n",
       "      <td>$</td>\n",
       "      <td>4.0</td>\n",
       "      <td>2654</td>\n",
       "    </tr>\n",
       "    <tr>\n",
       "      <th>6</th>\n",
       "      <td>40.729546</td>\n",
       "      <td>-73.958568</td>\n",
       "      <td>Paulie Gee's</td>\n",
       "      <td>$$</td>\n",
       "      <td>4.5</td>\n",
       "      <td>1279</td>\n",
       "    </tr>\n",
       "    <tr>\n",
       "      <th>7</th>\n",
       "      <td>40.711620</td>\n",
       "      <td>-73.957830</td>\n",
       "      <td>L'industrie Pizzeria</td>\n",
       "      <td>$</td>\n",
       "      <td>4.5</td>\n",
       "      <td>586</td>\n",
       "    </tr>\n",
       "    <tr>\n",
       "      <th>8</th>\n",
       "      <td>40.704930</td>\n",
       "      <td>-73.933990</td>\n",
       "      <td>Roberta's</td>\n",
       "      <td>$$</td>\n",
       "      <td>4.0</td>\n",
       "      <td>2992</td>\n",
       "    </tr>\n",
       "    <tr>\n",
       "      <th>9</th>\n",
       "      <td>40.731580</td>\n",
       "      <td>-74.003320</td>\n",
       "      <td>John's of Bleecker Street</td>\n",
       "      <td>$$</td>\n",
       "      <td>4.0</td>\n",
       "      <td>2135</td>\n",
       "    </tr>\n",
       "  </tbody>\n",
       "</table>\n",
       "</div>"
      ],
      "text/plain": [
       "    latitude  longitude                       name price  rating  review_count\n",
       "0  40.723088 -73.994530        Prince Street Pizza     $     4.5          3934\n",
       "1  40.702747 -73.993435                  Juliana's    $$     4.5          2338\n",
       "2  40.721593 -73.995596           Lombardi's Pizza    $$     4.0          6179\n",
       "3  40.681800 -74.000240                     Lucali    $$     4.0          1697\n",
       "4  40.722766 -73.996233                   Rubirosa    $$     4.5          2420\n",
       "5  40.730555 -74.002116                Joe's Pizza     $     4.0          2654\n",
       "6  40.729546 -73.958568               Paulie Gee's    $$     4.5          1279\n",
       "7  40.711620 -73.957830       L'industrie Pizzeria     $     4.5           586\n",
       "8  40.704930 -73.933990                  Roberta's    $$     4.0          2992\n",
       "9  40.731580 -74.003320  John's of Bleecker Street    $$     4.0          2135"
      ]
     },
     "execution_count": 136,
     "metadata": {},
     "output_type": "execute_result"
    }
   ],
   "source": [
    "# Replace None with appropriate code\n",
    "import pandas as pd\n",
    "# Convert price to numeric\n",
    "# business_df.describe()\n",
    "# print(business_df.dtypes)\n",
    "\n",
    "business_df[pd.to_numeric(business_df.price, errors='coerce').isnull()]"
   ]
  },
  {
   "cell_type": "markdown",
   "metadata": {},
   "source": [
    "# 4. Perform Descriptive Analysis\n",
    "\n",
    "## Descriptive Statistics\n",
    "\n",
    "Take the businesses from the previous question and do an initial descriptive analysis. Calculate summary statistics for the review counts, average rating, and price."
   ]
  },
  {
   "cell_type": "code",
   "execution_count": 130,
   "metadata": {},
   "outputs": [
    {
     "data": {
      "text/html": [
       "<div>\n",
       "<style>\n",
       "    .dataframe thead tr:only-child th {\n",
       "        text-align: right;\n",
       "    }\n",
       "\n",
       "    .dataframe thead th {\n",
       "        text-align: left;\n",
       "    }\n",
       "\n",
       "    .dataframe tbody tr th {\n",
       "        vertical-align: top;\n",
       "    }\n",
       "</style>\n",
       "<table border=\"1\" class=\"dataframe\">\n",
       "  <thead>\n",
       "    <tr style=\"text-align: right;\">\n",
       "      <th></th>\n",
       "      <th>review_count</th>\n",
       "      <th>rating</th>\n",
       "    </tr>\n",
       "  </thead>\n",
       "  <tbody>\n",
       "    <tr>\n",
       "      <th>count</th>\n",
       "      <td>10.000000</td>\n",
       "      <td>10.000000</td>\n",
       "    </tr>\n",
       "    <tr>\n",
       "      <th>mean</th>\n",
       "      <td>2621.400000</td>\n",
       "      <td>4.250000</td>\n",
       "    </tr>\n",
       "    <tr>\n",
       "      <th>std</th>\n",
       "      <td>1551.870284</td>\n",
       "      <td>0.263523</td>\n",
       "    </tr>\n",
       "    <tr>\n",
       "      <th>min</th>\n",
       "      <td>586.000000</td>\n",
       "      <td>4.000000</td>\n",
       "    </tr>\n",
       "    <tr>\n",
       "      <th>25%</th>\n",
       "      <td>1806.500000</td>\n",
       "      <td>4.000000</td>\n",
       "    </tr>\n",
       "    <tr>\n",
       "      <th>50%</th>\n",
       "      <td>2379.000000</td>\n",
       "      <td>4.250000</td>\n",
       "    </tr>\n",
       "    <tr>\n",
       "      <th>75%</th>\n",
       "      <td>2907.500000</td>\n",
       "      <td>4.500000</td>\n",
       "    </tr>\n",
       "    <tr>\n",
       "      <th>max</th>\n",
       "      <td>6179.000000</td>\n",
       "      <td>4.500000</td>\n",
       "    </tr>\n",
       "  </tbody>\n",
       "</table>\n",
       "</div>"
      ],
      "text/plain": [
       "       review_count     rating\n",
       "count     10.000000  10.000000\n",
       "mean    2621.400000   4.250000\n",
       "std     1551.870284   0.263523\n",
       "min      586.000000   4.000000\n",
       "25%     1806.500000   4.000000\n",
       "50%     2379.000000   4.250000\n",
       "75%     2907.500000   4.500000\n",
       "max     6179.000000   4.500000"
      ]
     },
     "execution_count": 130,
     "metadata": {},
     "output_type": "execute_result"
    }
   ],
   "source": [
    "# Replace None with appropriate code\n",
    "\n",
    "# Calculate summary statistics for the review counts, average rating, and price\n",
    "business_df[['review_count', 'rating','price']].describe()"
   ]
  },
  {
   "cell_type": "markdown",
   "metadata": {},
   "source": [
    "Describe the results displayed above and interpret them in the context of your query. (Your answer may differ from the solution branch depending on your query.)"
   ]
  },
  {
   "cell_type": "code",
   "execution_count": 133,
   "metadata": {},
   "outputs": [
    {
     "data": {
      "text/html": [
       "<div>\n",
       "<style>\n",
       "    .dataframe thead tr:only-child th {\n",
       "        text-align: right;\n",
       "    }\n",
       "\n",
       "    .dataframe thead th {\n",
       "        text-align: left;\n",
       "    }\n",
       "\n",
       "    .dataframe tbody tr th {\n",
       "        vertical-align: top;\n",
       "    }\n",
       "</style>\n",
       "<table border=\"1\" class=\"dataframe\">\n",
       "  <thead>\n",
       "    <tr style=\"text-align: right;\">\n",
       "      <th></th>\n",
       "      <th>latitude</th>\n",
       "      <th>longitude</th>\n",
       "      <th>name</th>\n",
       "      <th>price</th>\n",
       "      <th>rating</th>\n",
       "      <th>review_count</th>\n",
       "    </tr>\n",
       "  </thead>\n",
       "  <tbody>\n",
       "    <tr>\n",
       "      <th>count</th>\n",
       "      <td>10.000000</td>\n",
       "      <td>10.000000</td>\n",
       "      <td>10</td>\n",
       "      <td>10</td>\n",
       "      <td>10.000000</td>\n",
       "      <td>10.000000</td>\n",
       "    </tr>\n",
       "    <tr>\n",
       "      <th>unique</th>\n",
       "      <td>NaN</td>\n",
       "      <td>NaN</td>\n",
       "      <td>10</td>\n",
       "      <td>2</td>\n",
       "      <td>NaN</td>\n",
       "      <td>NaN</td>\n",
       "    </tr>\n",
       "    <tr>\n",
       "      <th>top</th>\n",
       "      <td>NaN</td>\n",
       "      <td>NaN</td>\n",
       "      <td>Lombardi's Pizza</td>\n",
       "      <td>$$</td>\n",
       "      <td>NaN</td>\n",
       "      <td>NaN</td>\n",
       "    </tr>\n",
       "    <tr>\n",
       "      <th>freq</th>\n",
       "      <td>NaN</td>\n",
       "      <td>NaN</td>\n",
       "      <td>1</td>\n",
       "      <td>7</td>\n",
       "      <td>NaN</td>\n",
       "      <td>NaN</td>\n",
       "    </tr>\n",
       "    <tr>\n",
       "      <th>mean</th>\n",
       "      <td>40.716023</td>\n",
       "      <td>-73.983586</td>\n",
       "      <td>NaN</td>\n",
       "      <td>NaN</td>\n",
       "      <td>4.250000</td>\n",
       "      <td>2621.400000</td>\n",
       "    </tr>\n",
       "    <tr>\n",
       "      <th>std</th>\n",
       "      <td>0.015820</td>\n",
       "      <td>0.024222</td>\n",
       "      <td>NaN</td>\n",
       "      <td>NaN</td>\n",
       "      <td>0.263523</td>\n",
       "      <td>1551.870284</td>\n",
       "    </tr>\n",
       "    <tr>\n",
       "      <th>min</th>\n",
       "      <td>40.681800</td>\n",
       "      <td>-74.003320</td>\n",
       "      <td>NaN</td>\n",
       "      <td>NaN</td>\n",
       "      <td>4.000000</td>\n",
       "      <td>586.000000</td>\n",
       "    </tr>\n",
       "    <tr>\n",
       "      <th>25%</th>\n",
       "      <td>40.706603</td>\n",
       "      <td>-73.999238</td>\n",
       "      <td>NaN</td>\n",
       "      <td>NaN</td>\n",
       "      <td>4.000000</td>\n",
       "      <td>1806.500000</td>\n",
       "    </tr>\n",
       "    <tr>\n",
       "      <th>50%</th>\n",
       "      <td>40.722180</td>\n",
       "      <td>-73.995063</td>\n",
       "      <td>NaN</td>\n",
       "      <td>NaN</td>\n",
       "      <td>4.250000</td>\n",
       "      <td>2379.000000</td>\n",
       "    </tr>\n",
       "    <tr>\n",
       "      <th>75%</th>\n",
       "      <td>40.727931</td>\n",
       "      <td>-73.967285</td>\n",
       "      <td>NaN</td>\n",
       "      <td>NaN</td>\n",
       "      <td>4.500000</td>\n",
       "      <td>2907.500000</td>\n",
       "    </tr>\n",
       "    <tr>\n",
       "      <th>max</th>\n",
       "      <td>40.731580</td>\n",
       "      <td>-73.933990</td>\n",
       "      <td>NaN</td>\n",
       "      <td>NaN</td>\n",
       "      <td>4.500000</td>\n",
       "      <td>6179.000000</td>\n",
       "    </tr>\n",
       "  </tbody>\n",
       "</table>\n",
       "</div>"
      ],
      "text/plain": [
       "         latitude  longitude              name price     rating  review_count\n",
       "count   10.000000  10.000000                10    10  10.000000     10.000000\n",
       "unique        NaN        NaN                10     2        NaN           NaN\n",
       "top           NaN        NaN  Lombardi's Pizza    $$        NaN           NaN\n",
       "freq          NaN        NaN                 1     7        NaN           NaN\n",
       "mean    40.716023 -73.983586               NaN   NaN   4.250000   2621.400000\n",
       "std      0.015820   0.024222               NaN   NaN   0.263523   1551.870284\n",
       "min     40.681800 -74.003320               NaN   NaN   4.000000    586.000000\n",
       "25%     40.706603 -73.999238               NaN   NaN   4.000000   1806.500000\n",
       "50%     40.722180 -73.995063               NaN   NaN   4.250000   2379.000000\n",
       "75%     40.727931 -73.967285               NaN   NaN   4.500000   2907.500000\n",
       "max     40.731580 -73.933990               NaN   NaN   4.500000   6179.000000"
      ]
     },
     "execution_count": 133,
     "metadata": {},
     "output_type": "execute_result"
    }
   ],
   "source": [
    "# Replace None with appropriate text\n",
    "\"\"\"\n",
    "None\n",
    "\"\"\"\n",
    "business_df.describe(include = \"all\")"
   ]
  },
  {
   "cell_type": "markdown",
   "metadata": {},
   "source": [
    "## Histograms\n",
    "\n",
    "Create histograms for the review counts, average rating, and price."
   ]
  },
  {
   "cell_type": "code",
   "execution_count": null,
   "metadata": {
    "collapsed": true
   },
   "outputs": [],
   "source": [
    "# Replace None with your code\n",
    "import matplotlib.pyplot as plt\n",
    "%matplotlib inline\n",
    "\n",
    "fig, (ax1, ax2, ax3) = plt.subplots(ncols=3, figsize=(16, 5))\n",
    "\n",
    "# Plot distribution of number of reviews per business\n",
    "all_review_counts = None\n",
    "\n",
    "# Plot distribution of ratings across businesses\n",
    "all_ratings = None\n",
    "\n",
    "# Plot distribution of prices across businesses\n",
    "all_prices = None"
   ]
  },
  {
   "cell_type": "markdown",
   "metadata": {},
   "source": [
    "Describe the distributions displayed above and interpret them in the context of your query. (Your answer may differ from the solution branch depending on your query.)"
   ]
  },
  {
   "cell_type": "code",
   "execution_count": null,
   "metadata": {
    "collapsed": true
   },
   "outputs": [],
   "source": [
    "# Replace None with appropriate text\n",
    "\"\"\"\n",
    "None\n",
    "\"\"\""
   ]
  },
  {
   "cell_type": "markdown",
   "metadata": {},
   "source": [
    "## Ratings vs. Price\n",
    "\n",
    "Create a visualization showing the relationship between rating and price. You can do this a few different ways - one option could be to show the average price at each rating using a bar chart."
   ]
  },
  {
   "cell_type": "code",
   "execution_count": null,
   "metadata": {
    "collapsed": true
   },
   "outputs": [],
   "source": [
    "# Replace None with your code\n",
    "\n",
    "\n",
    "# Calculate average price for each rating\n",
    "None\n",
    "\n",
    "# Plot results\n",
    "None"
   ]
  },
  {
   "cell_type": "markdown",
   "metadata": {},
   "source": [
    "Is a higher price associated with a higher rating? (No need for any additional math/statistics, just interpret what you see in the plot.)"
   ]
  },
  {
   "cell_type": "code",
   "execution_count": null,
   "metadata": {
    "collapsed": true
   },
   "outputs": [],
   "source": [
    "# Replace None with appropriate text\n",
    "\"\"\"\n",
    "None\n",
    "\"\"\""
   ]
  },
  {
   "cell_type": "markdown",
   "metadata": {},
   "source": [
    "## Ratings vs Review Counts\n",
    "\n",
    "Finally, let's look at ratings vs. review counts. You can analyze this relationship similarly to ratings vs. price."
   ]
  },
  {
   "cell_type": "code",
   "execution_count": null,
   "metadata": {
    "collapsed": true
   },
   "outputs": [],
   "source": [
    "# Replace None with your code\n",
    "\n",
    "# Calculate average review count for each rating\n",
    "rating_review_count = business_df.groupby('rating').agg({'review_count': 'mean'})\n",
    "\n",
    "# Plot results\n",
    "fig, ax = plt.subplots()\n",
    "ax.bar(x = list(rating_review_count.index), height = list(rating_review_count['review_count']), width = 0.3)\n",
    "ax.set_xlabel(\"Average Rating\")\n",
    "ax.set_ylabel(\"Average Review Count\")"
   ]
  },
  {
   "cell_type": "markdown",
   "metadata": {},
   "source": [
    "Is a higher number of reviews associated with a higher rating?"
   ]
  },
  {
   "cell_type": "code",
   "execution_count": null,
   "metadata": {
    "collapsed": true
   },
   "outputs": [],
   "source": [
    "# Replace None with appropriate text\n",
    "\"\"\"\n",
    "None\n",
    "\"\"\""
   ]
  },
  {
   "cell_type": "markdown",
   "metadata": {},
   "source": [
    "## Level Up: Create a Folium Map\n",
    "\n",
    "Make a map using Folium of the businesses you retrieved. Be sure to also add popups to the markers giving some basic information such as name, rating and price.\n",
    "\n",
    "You can center the map around the latitude and longitude of the first item in your dataset."
   ]
  },
  {
   "cell_type": "code",
   "execution_count": null,
   "metadata": {
    "collapsed": true
   },
   "outputs": [],
   "source": [
    "# Replace None with appropriate code\n",
    "\n",
    "# Import the library\n",
    "None\n",
    "\n",
    "# Set up center latitude and longitude\n",
    "center_lat = None\n",
    "center_long = None\n",
    "\n",
    "# Initialize map with center lat and long\n",
    "yelp_map = None\n",
    "\n",
    "# Adjust this limit to see more or fewer businesses\n",
    "limit=100\n",
    "\n",
    "for business in full_dataset[:limit]:\n",
    "    # Extract information about business\n",
    "    lat = None\n",
    "    long = None\n",
    "    name = None\n",
    "    rating = None\n",
    "    price = None\n",
    "    details = \"{}\\nPrice: {} Rating:{}\".format(name,price,rating)\n",
    "    \n",
    "    # Create popup with relevant details\n",
    "    popup = None\n",
    "    \n",
    "    # Create marker with relevant lat/long and popup\n",
    "    marker = None\n",
    "    \n",
    "    marker.add_to(yelp_map)\n",
    "    \n",
    "yelp_map"
   ]
  },
  {
   "cell_type": "markdown",
   "metadata": {},
   "source": [
    "# 5. Create Presentation Notebook\n",
    "\n",
    "Now that you've completed your project, let's put it into an easily presentable format so you can add it to your portfolio. To do this, we recommend completing the following steps outside of this notebook.\n",
    "\n",
    "1. Create a new GitHub repository for your project.\n",
    "2. Save a copy of this notebook into your local repository.\n",
    "3. Edit the text and images in the notebook to present your project and help someone else understand it.\n",
    "4. Run your notebook from start to finish, then **delete your API key** and save it.\n",
    "5. Create a README.md file in your repository with a brief summary of your project.\n",
    "6. Push your updated repository to GitHub to share with your instructor and employers!"
   ]
  },
  {
   "cell_type": "markdown",
   "metadata": {},
   "source": [
    "# Level Up: Project Enhancements\n",
    "\n",
    "After completing the project, you could consider the following enhancements if you have time:\n",
    "\n",
    "* Save a cleaned version of your dataset in your repository, then modify the notebook to load and use that dataset for the analysis. This will allow others to replicate your analysis and avoid running their own API queries.\n",
    "* Use `seaborn` to improve the styling of your visualizations\n",
    "* Explain the implications of your findings for business owners or internal Yelp staff\n",
    "* Repeat the project for another business category or location, and compare the results"
   ]
  },
  {
   "cell_type": "markdown",
   "metadata": {},
   "source": [
    "# Summary\n",
    "\n",
    "Nice work! In this lab, you've made multiple API calls to Yelp in order to paginate through a results set, prepared your data for analysis, and then conducted and visualized descriptive analyses. Well done!"
   ]
  }
 ],
 "metadata": {
  "kernelspec": {
   "display_name": "Python 3",
   "language": "python",
   "name": "python3"
  },
  "language_info": {
   "codemirror_mode": {
    "name": "ipython",
    "version": 3
   },
   "file_extension": ".py",
   "mimetype": "text/x-python",
   "name": "python",
   "nbconvert_exporter": "python",
   "pygments_lexer": "ipython3",
   "version": "3.6.3"
  },
  "toc": {
   "base_numbering": 1,
   "nav_menu": {},
   "number_sections": true,
   "sideBar": true,
   "skip_h1_title": false,
   "title_cell": "Table of Contents",
   "title_sidebar": "Contents",
   "toc_cell": false,
   "toc_position": {},
   "toc_section_display": true,
   "toc_window_display": false
  }
 },
 "nbformat": 4,
 "nbformat_minor": 2
}
